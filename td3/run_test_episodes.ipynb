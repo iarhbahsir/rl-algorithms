{
 "cells": [
  {
   "cell_type": "code",
   "execution_count": 1,
   "metadata": {},
   "outputs": [],
   "source": [
    "import random\n",
    "import numpy as np\n",
    "import matplotlib.pyplot as plt\n",
    "\n",
    "from torch import tensor\n",
    "from torch import cat\n",
    "from torch import clamp\n",
    "from torch.distributions import normal\n",
    "from torch import nn\n",
    "import torch.nn.functional as F\n",
    "from torch import optim\n",
    "from torch.utils.tensorboard import SummaryWriter\n",
    "import torch\n",
    "\n",
    "import gym"
   ]
  },
  {
   "cell_type": "code",
   "execution_count": 2,
   "metadata": {},
   "outputs": [],
   "source": [
    "num_iterations = 1000000\n",
    "replay_memory_max_size = 100000\n",
    "sigma = 0.2\n",
    "minibatch_size = 64\n",
    "discount_rate = 0.99\n",
    "steps_until_policy_update = 2\n",
    "target_update_ratio = 0.0005\n",
    "epsilon_limit = 0.5\n",
    "min_action = -2\n",
    "max_action = 2"
   ]
  },
  {
   "cell_type": "code",
   "execution_count": 3,
   "metadata": {},
   "outputs": [],
   "source": [
    "device = torch.device(\"cpu\")\n",
    "cpu_device = torch.device(\"cpu\")\n",
    "\n",
    "class TD3LunarLanderContinuousActorNN(nn.Module):\n",
    "    def __init__(self):\n",
    "        super(TD3LunarLanderContinuousActorNN, self).__init__()\n",
    "        self.fc1 = nn.Linear(8, 100)\n",
    "        self.fc2 = nn.Linear(100, 100)\n",
    "        self.fc3 = nn.Linear(100, 2)\n",
    "\n",
    "    def forward(self, x):\n",
    "        x = F.relu(self.fc1(x))\n",
    "        x = F.relu(self.fc2(x))\n",
    "        x = torch.tanh(self.fc3(x))\n",
    "        return x"
   ]
  },
  {
   "cell_type": "code",
   "execution_count": 4,
   "metadata": {},
   "outputs": [],
   "source": [
    "actor_net = TD3LunarLanderContinuousActorNN()"
   ]
  },
  {
   "cell_type": "code",
   "execution_count": 5,
   "metadata": {},
   "outputs": [],
   "source": [
    "actor_net.load_state_dict(torch.load(\"./models/current/TD3-LunarLanderContinuous-v2-actor_net.pkl\"))\n",
    "actor_net = actor_net.to(device)"
   ]
  },
  {
   "cell_type": "code",
   "execution_count": 6,
   "metadata": {},
   "outputs": [],
   "source": [
    "env = gym.make('LunarLanderContinuous-v2')\n",
    "render = True\n",
    "num_eval_episodes = 100\n",
    "\n",
    "obs = env.reset()\n",
    "episode_rewards = []\n",
    "episode_reward = 0\n",
    "while len(episode_rewards) < num_eval_episodes:\n",
    "    action = actor_net(tensor(obs).float().to(device)).detach().to(cpu_device).numpy().squeeze()\n",
    "    obs, reward, done, _ = env.step(action)\n",
    "    episode_reward += reward\n",
    "    if done:\n",
    "        episode_rewards.append(episode_reward)\n",
    "        episode_reward = 0\n",
    "        obs = env.reset()\n",
    "    if render:\n",
    "        env.render()\n",
    "\n",
    "episode_rewards = np.asarray(episode_rewards)"
   ]
  },
  {
   "cell_type": "code",
   "execution_count": 7,
   "metadata": {},
   "outputs": [
    {
     "data": {
      "image/png": "[encoded data removed]",
      "text/plain": [
       "<Figure size 432x288 with 1 Axes>"
      ]
     },
     "metadata": {
      "needs_background": "light"
     },
     "output_type": "display_data"
    }
   ],
   "source": [
    "plt.title(\"Episode Rewards\")\n",
    "plt.xlabel(\"Total Reward\")\n",
    "plt.ylabel(\"Frequency\")\n",
    "plt.hist(episode_rewards)\n",
    "plt.show()"
   ]
  },
  {
   "cell_type": "code",
   "execution_count": 8,
   "metadata": {},
   "outputs": [
    {
     "name": "stdout",
     "output_type": "stream",
     "text": [
      "Mean total episode reward: 277.0992944736884\n"
     ]
    }
   ],
   "source": [
    "print(\"Mean total episode reward:\", np.mean(episode_rewards))"
   ]
  }
 ],
 "metadata": {
  "kernelspec": {
   "display_name": "Python 3",
   "language": "python",
   "name": "python3"
  },
  "language_info": {
   "codemirror_mode": {
    "name": "ipython",
    "version": 3
   },
   "file_extension": ".py",
   "mimetype": "text/x-python",
   "name": "python",
   "nbconvert_exporter": "python",
   "pygments_lexer": "ipython3",
   "version": "3.7.3"
  }
 },
 "nbformat": 4,
 "nbformat_minor": 1
}
