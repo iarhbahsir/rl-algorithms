{
 "cells": [
  {
   "cell_type": "code",
   "execution_count": 1,
   "metadata": {},
   "outputs": [],
   "source": [
    "import random\n",
    "\n",
    "import numpy as np\n",
    "import matplotlib.pyplot as plt\n",
    "\n",
    "from torch import tensor\n",
    "from torch import cat\n",
    "from torch import clamp\n",
    "from torch.distributions import normal\n",
    "from torch import nn\n",
    "import torch.nn.functional as F\n",
    "from torch import optim\n",
    "from torch.utils.tensorboard import SummaryWriter\n",
    "import torch\n",
    "\n",
    "import mujoco_py\n",
    "import gym"
   ]
  },
  {
   "cell_type": "code",
   "execution_count": 2,
   "metadata": {},
   "outputs": [],
   "source": [
    "environment_name = 'Hopper-v2'\n",
    "\n",
    "model_name = \"SAC-{}\".format(environment_name)\n",
    "\n",
    "parameters = {\n",
    "    'state_dim': {\n",
    "        'LunarLanderContinuous-v2': 8,\n",
    "        'Hopper-v2': 11\n",
    "    },\n",
    "    'action_dim': {\n",
    "        'LunarLanderContinuous-v2': 2,\n",
    "        'Hopper-v2': 3\n",
    "    },\n",
    "    'hidden_layer_size': {\n",
    "        'LunarLanderContinuous-v2': 100,\n",
    "        'Hopper-v2': 256\n",
    "    }\n",
    "}\n",
    "\n",
    "STATE_DIM = parameters['state_dim'][environment_name]\n",
    "ACTION_DIM = parameters['action_dim'][environment_name]\n",
    "hidden_layer_size = parameters['hidden_layer_size'][environment_name]"
   ]
  },
  {
   "cell_type": "code",
   "execution_count": 3,
   "metadata": {},
   "outputs": [],
   "source": [
    "device = torch.device(\"cuda:0\" if torch.cuda.is_available() else \"cpu\")\n",
    "cpu_device = torch.device(\"cpu\")"
   ]
  },
  {
   "cell_type": "code",
   "execution_count": 4,
   "metadata": {},
   "outputs": [],
   "source": [
    "# define actor network\n",
    "class SACActorNN(nn.Module):\n",
    "    def __init__(self):\n",
    "        super(SACActorNN, self).__init__()\n",
    "        self.fc1 = nn.Linear(STATE_DIM, hidden_layer_size)\n",
    "        self.fc2 = nn.Linear(hidden_layer_size, hidden_layer_size)\n",
    "        self.mean = nn.Linear(hidden_layer_size, ACTION_DIM)\n",
    "        self.log_stdev = nn.Linear(hidden_layer_size, ACTION_DIM)\n",
    "        self.normal_dist = normal.Normal(0, 1)\n",
    "\n",
    "\n",
    "    def forward(self, x_state):\n",
    "        # print(x_state.shape)\n",
    "        x_state = F.relu(self.fc1(x_state))\n",
    "        x_state = F.relu(self.fc2(x_state))\n",
    "        mean = self.mean(x_state)\n",
    "        log_stdev = clamp(self.log_stdev(x_state), min=-2, max=20)\n",
    "        unsquashed_action = mean + self.normal_dist.sample(sample_shape=log_stdev.shape).to(device) * torch.exp(log_stdev).to(device)\n",
    "        squashed_action = torch.tanh(unsquashed_action)\n",
    "        action_dist = normal.Normal(mean, torch.exp(log_stdev))\n",
    "        log_prob_squashed_a = action_dist.log_prob(unsquashed_action).to(device) - torch.sum(torch.log(clamp(torch.ones(squashed_action.shape).to(device) - squashed_action**2, min=1e-8)), dim=1).view(-1, 1).repeat(1, ACTION_DIM)\n",
    "        return squashed_action, log_prob_squashed_a"
   ]
  },
  {
   "cell_type": "code",
   "execution_count": 5,
   "metadata": {},
   "outputs": [],
   "source": [
    "actor_net = SACActorNN().to(device)\n",
    "actor_net.load_state_dict(torch.load(\"./models/current/best/v11-1mil-iter-256-node-hidden-layers-buffer-1mil/best-SAC-Hopper-v2-actor_net.pkl\"))\n",
    "env = gym.make(environment_name)"
   ]
  },
  {
   "cell_type": "code",
   "execution_count": 6,
   "metadata": {},
   "outputs": [],
   "source": [
    "render = False\n",
    "num_eval_episodes = 100\n",
    "\n",
    "obs = env.reset()\n",
    "episode_rewards = []\n",
    "episode_reward = 0\n",
    "while len(episode_rewards) < num_eval_episodes:\n",
    "    action, log_prob = actor_net(tensor(obs).view(1, -1, ).float().to(device))\n",
    "    action = action.detach().to(cpu_device).numpy().squeeze()\n",
    "    log_prob = log_prob.detach()\n",
    "    obs, reward, done, _ = env.step(action)\n",
    "    episode_reward += reward\n",
    "    if done:\n",
    "        episode_rewards.append(episode_reward)\n",
    "        episode_reward = 0\n",
    "        obs = env.reset()\n",
    "    if render:\n",
    "        env.render()"
   ]
  },
  {
   "cell_type": "code",
   "execution_count": 7,
   "metadata": {},
   "outputs": [],
   "source": [
    "env.close()\n",
    "episode_rewards = np.asarray(episode_rewards)"
   ]
  },
  {
   "cell_type": "code",
   "execution_count": 8,
   "metadata": {},
   "outputs": [
    {
     "name": "stdout",
     "output_type": "stream",
     "text": [
      "Mean total episode reward: 3009.8156368252367\n"
     ]
    },
    {
     "data": {
      "image/png": "[encoded data removed]",
      "text/plain": [
       "<Figure size 432x288 with 1 Axes>"
      ]
     },
     "metadata": {
      "needs_background": "light"
     },
     "output_type": "display_data"
    }
   ],
   "source": [
    "episode_length_histogram = plt.hist(episode_rewards)\n",
    "plt.title(\"Episode Rewards\")\n",
    "plt.xlabel(\"Total Reward\")\n",
    "plt.ylabel(\"Frequency\")\n",
    "plt.plot()\n",
    "print(\"Mean total episode reward:\", np.mean(episode_rewards))"
   ]
  }
 ],
 "metadata": {
  "kernelspec": {
   "display_name": "Python 3",
   "language": "python",
   "name": "python3"
  },
  "language_info": {
   "codemirror_mode": {
    "name": "ipython",
    "version": 3
   },
   "file_extension": ".py",
   "mimetype": "text/x-python",
   "name": "python",
   "nbconvert_exporter": "python",
   "pygments_lexer": "ipython3",
   "version": "3.7.3"
  }
 },
 "nbformat": 4,
 "nbformat_minor": 2
}
